{
 "cells": [
  {
   "cell_type": "markdown",
   "metadata": {
    "nbpresent": {
     "id": "d6265485-1e2c-4e42-bb7c-6f2720afb1f1"
    }
   },
   "source": [
    "# Bayesian Data Analyis, Chapter 1\n",
    "## 1.1 Conditional Probability\n",
    "$p(y|\\theta=z)=N(z,\\sigma)$, and $ Pr(\\theta=1)=Pr(\\theta=2)=.5$\n",
    "\n",
    "a) If $\\sigma=2$, write and sketch marginal probability density for y.\n",
    "\n",
    "\\begin{align}\n",
    "p(y) = &\\sum_{\\theta=1,2} p(y|\\theta) p(\\theta) \\\\\n",
    "=& .5N(1,2) + .5N(2,2) \\\\\n",
    "=&\\frac{exp(\\frac{-(1-\\mu)^2}{8}) + exp(\\frac{-(2-\\mu)^2}{8}) }{4\\sqrt{\\pi}}\\\\\n",
    "\\end{align}\n"
   ]
  },
  {
   "cell_type": "code",
   "execution_count": 17,
   "metadata": {
    "collapsed": false,
    "nbpresent": {
     "id": "cec5b3d4-568c-47e5-ac14-14f67fbc1019"
    }
   },
   "outputs": [
    {
     "data": {
      "text/plain": [
       "[<matplotlib.lines.Line2D at 0x1105edda0>]"
      ]
     },
     "execution_count": 17,
     "metadata": {},
     "output_type": "execute_result"
    },
    {
     "data": {
      "image/png": "[encoded data removed]",
      "text/plain": [
       "<matplotlib.figure.Figure at 0x1104f80b8>"
      ]
     },
     "metadata": {},
     "output_type": "display_data"
    }
   ],
   "source": [
    "%matplotlib inline\n",
    "import numpy as np\n",
    "import matplotlib.pyplot as plt\n",
    "mu = np.linspace(-5,9, num = 1000)\n",
    "y = (np.exp(-(1-mu)**2/8)+np.exp(-(2-mu)**2/8))/(4*np.sqrt(np.pi))\n",
    "plt.plot(mu,y,'r')\n",
    "y1 = (np.exp(-(1-mu)**2/8))/(4*np.sqrt(np.pi))\n",
    "plt.plot(mu,y1,'b')\n",
    "y2 = (np.exp(-(2-mu)**2/8))/(4*np.sqrt(np.pi))\n",
    "plt.plot(mu,y2,'g')\n",
    "\n"
   ]
  },
  {
   "cell_type": "markdown",
   "metadata": {
    "collapsed": true
   },
   "source": [
    "b) Find $p(\\theta=1|y=1)$\n",
    "\\begin{align}\n",
    "p(\\theta=1|y=1) = &\\frac{p(y=1|\\theta=1) p(\\theta=1) }{p(y=1)} \\\\\n",
    " =& \\frac{exp(\\frac{-(1-1)^2}{8})}{exp(\\frac{-(1-1)^2}{8} + exp(\\frac{-(2-1)^2}{8}} \\\\\n",
    " =& \\frac{1}{1 + exp(\\frac{-1}{8})} \\\\\n",
    "\\end{align}"
   ]
  },
  {
   "cell_type": "code",
   "execution_count": 16,
   "metadata": {
    "collapsed": false,
    "nbpresent": {
     "id": "cad7e881-b2a7-400a-98f5-da59f6e6f25a"
    }
   },
   "outputs": [
    {
     "data": {
      "text/plain": [
       "0.53120937337375629"
      ]
     },
     "execution_count": 16,
     "metadata": {},
     "output_type": "execute_result"
    }
   ],
   "source": [
    "1/(1+np.exp(-1/8))"
   ]
  },
  {
   "cell_type": "markdown",
   "metadata": {
    "collapsed": true
   },
   "source": [
    "c) Describe how posterior density of $\\theta$ changes in shape with $\\sigma$\n",
    "\n",
    "As $\\sigma$ grows small, the distributions become disjoint, and the the posterior densities approach zero or 1. As $\\sigma$ grows large, the the distributions approach each other, and the posterior density approaches the prior densities of $\\frac{1}{2}$ (For $\\mu=1.5$, the posterior density is always $(.5,.5)$, and not a function of $\\theta$.)\n"
   ]
  },
  {
   "cell_type": "markdown",
   "metadata": {
    "collapsed": true
   },
   "source": [
    "## 1.2 Conditional Means and Variances (vector form)\n",
    "Conditional Mean:\n",
    "$\\def\\bu{\\boldsymbol u}$\n",
    "\\begin{align}\n",
    "E(\\bu) =& \\int \\bu \\, p(\\bu)\\, d\\bu \\\\\n",
    "=&\\iint \\bu\\, p(\\bu,v) \\, d\\bu\\, dv \\\\\n",
    "=& \\iint \\bu\\, p(\\bu|v)\\,d\\bu\\, p(v)\\, dv \\\\\n",
    "=& \\int E(\\bu|v)\\,p(v)dv \\\\\n",
    "=& \\,E(E(\\bu|v)) \n",
    "\\end{align}\n",
    "\n",
    "Conditional Variance:\n",
    "\\begin{align}\n",
    "var(\\bu) =& \\int (\\bu \\,-\\,E(\\bu))(\\bu \\,-\\,E(\\bu))^T\\,p(\\bu)\\,d\\bu \\\\\n",
    "=&\\, E(\\bu\\bu^T) - E(E(\\bu)E(\\bu)^T) \\\\\n",
    "=&\\, E(\\bu\\bu^T) - E(E(\\bu|v)E(\\bu|v)^T) + E(E(\\bu|v)E(\\bu|v)^T)  - E(E(\\bu)E(\\bu)^T) \\\\\n",
    "=&\\, E(E(\\bu \\bu^T|v)) - E(E(\\bu|v)E(\\bu|v)^T) + E(E(\\bu|v)E(\\bu|v)^T)  - E(E(E(\\bu|v))E(E(\\bu|v))^T) \\\\\n",
    "=&\\, E(var(\\bu\\bu^T)) + var(E(\\bu|v))\n",
    "\\end{align}"
   ]
  }
 ],
 "metadata": {
  "kernelspec": {
   "display_name": "Python [Root]",
   "language": "python",
   "name": "Python [Root]"
  },
  "language_info": {
   "codemirror_mode": {
    "name": "ipython",
    "version": 3
   },
   "file_extension": ".py",
   "mimetype": "text/x-python",
   "name": "python",
   "nbconvert_exporter": "python",
   "pygments_lexer": "ipython3",
   "version": "3.5.1"
  }
 },
 "nbformat": 4,
 "nbformat_minor": 0
}

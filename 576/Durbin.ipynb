{
 "cells": [
  {
   "cell_type": "markdown",
   "metadata": {},
   "source": [
    "### 1.1 \n",
    "Consider an occasionally dishonest casino that uses two kinds of dice. Of the dice 99% are fair but 1% are loaded so that a six comes up 50% of the time. We pick up a die From a table at random, What are $P(6|D_{\\mbox {fair}})$ and $P(6|D_{\\mbox {loaded}})$? What is the probability of rolling a six from the die we picked up? \n",
    "\n",
    "$$P(6|D_{\\mbox {fair}}) = \\frac{1}{6}$$\n",
    "$$P(6|D_{\\mbox {loaded}}) = \\frac{1}{2}$$\n",
    "$$P(6) = \\sum P(6|\\theta)p(\\theta) = \\frac{.99}{6}+ \\frac{.01}{2}  = \\frac{1.02}{6} = .17 $$"
   ]
  },
  {
   "cell_type": "markdown",
   "metadata": {},
   "source": [
    "### 1.2 \n",
    "How many sixes in a row make it most likely that we had picked a loaded die? \n",
    "\n",
    "$$P(D_L|\\mbox{six}^n) = \\frac{P(\\mbox{six}^n|D_L)P(D_L)}{P(\\mbox{six}^n)} = \\frac{\\frac{.01}{2^n}}{.17^n}$$\n",
    "\n",
    "$$ .5 \\gt \\frac{.01}{.34^n} $$\n",
    "$$ n \\gt \\frac{\\ln .02}{\\ln .34} = 3.64$$ \n",
    "Four or more sixes make the loaded die more probable."
   ]
  },
  {
   "cell_type": "markdown",
   "metadata": {},
   "source": [
    "### 1.3 Use equation ( 1. 1) to prove Bayes' theorem. \n",
    "$$ P(X,Y) = P(X|Y)P(Y) = P(Y|X)P(X) $$\n",
    "$$ P(X|Y) = \\frac{P(Y|X)P(X)}{P(Y)}$$"
   ]
  },
  {
   "cell_type": "markdown",
   "metadata": {},
   "source": [
    "### 1.4 $P(T|d) = 1.$, $P(T|\\tilde d) = 1e^{-4}$, and $P(d) = 1e^{-6}$. Find $P(d|T)$.\n",
    "\n",
    "\\begin{align}\n",
    "P(d|T) =& \\frac{P(T|d)P(d)}{P(T)} \\\\\n",
    "=& \\frac{P(T|d)P(d)}{P(T|\\tilde d)p(\\tilde d) + P(T|d)p( d)}\n",
    "=& \\frac{1e^{-6}}{1e^{-4}(1 - 1e^{-6}) + 1(1e^{-6})} \\approx \\frac{1}{100}\n",
    "\\end{align}\n",
    "\n",
    "So a positive score for this \"very good\" test still overwhelmingly corresponsd to a negative result."
   ]
  },
  {
   "cell_type": "markdown",
   "metadata": {},
   "source": [
    "### 2.1 Amino Acids D,E, and K are all charged; V, I, L are all hydrophobic. \n",
    "\n",
    "What is the average BLOSUM50 score withing the charged group of three? (2,-1,1): $\\frac{2}{3}$\n",
    "\n",
    "Whithin the Hydrophobic group? (2,4,1): $2\\frac{1}{3}$\n",
    "\n",
    "Between them? (-4,-4,-4,-3,-3,-4,-3,-3,-3): $-3\\frac{4}{9}$\n",
    "\n",
    "Suggest a reason:\n",
    "\n",
    "Protein function is driven by folding, which is in turn driven by electrostatic forces and localized charge densities. A hydophobic substance has a very small charge, and is repelled by bipolar water molecules. Therefore a mutation which changes charge density is much more likely to affect folding which in turn is more likely to affect functionality. Differently functioning proteins are less likely to be homologs."
   ]
  },
  {
   "cell_type": "markdown",
   "metadata": {},
   "source": [
    "### 2.2 Show that the probability distributions $f(g)$ that correspond to the linear and affine gap schemes in eqns $2.4$ and $2.5$  are both geometric distributions, of the form $f(g)=ke^{-\\lambda g}$\n",
    "\n",
    "a) $log(f(g)) = \\gamma(g) = -gd \\quad \\quad f(g) = e^{-gd} $\n",
    "\n",
    "b) $log(f(g)) = \\gamma(g) = -d -(g-1)f \\quad \\quad f(g) = e^{-d-(g-1)f} = e^{-d+f}e^{-gf} $\n",
    "\n",
    "(in b, I renamed the gap extension penalty $e$ to $f$ to avoid confusion with exponential constant $e$.\n",
    "\n",
    "\n"
   ]
  },
  {
   "cell_type": "markdown",
   "metadata": {},
   "source": [
    "### 2.5 Show number of ways to align seqences of length m,n is $m+n\\choose m$\n",
    "\n",
    "This can be trivally shown for small values of $m$ and $n$. If we add a single element to the beginning of $m$ sequence, this element can be unpaired, reducing to the $(m,n)$ case. If it pairs to $n_1$, it reduces to $(m,n-1)$ case, and so on.\n",
    "\\begin{align}\n",
    "f(m+1,n) =& \\sum_{k=0}^n f(m,n-k) \\\\\n",
    " =& \\sum_{k=0}^n  {m + n -k \\choose m}  =  \\sum_{k=0}^n  {m + k \\choose m} \\\\\n",
    " =&  {{m+n+1}\\choose {n} } = { {m+n+1}\\choose {m+1}} \\\\\n",
    "\\end{align}\n",
    "\n",
    "[Proof of sum-choose identity](https://proofwiki.org/wiki/Sum_of_r%2Bk_Choose_k_up_to_n)"
   ]
  },
  {
   "cell_type": "markdown",
   "metadata": {},
   "source": [
    "### 2.6 Alternating symbols? Gap characters?"
   ]
  },
  {
   "cell_type": "markdown",
   "metadata": {},
   "source": [
    "### 2.7 Use Stirling's formula $x!\\approx \\sqrt{2\\pi}x^{x+\\frac{1}{2}}e^{-x}$ to prove $2.7$.\n",
    "\n",
    "$ \\frac{(2n)!}{(n!)^2} = \\frac{\\sqrt{2\\pi}(2n)^{2n + \\frac{1}{2}}e^{-2n}}{2\\pi n^{2n+1}e^{-2n}} \n",
    "= \\frac{2^{2n+\\frac{1}{2}}}{\\sqrt{2}{\\pi}n^{\\frac{1}{2}}} = \n",
    "\\frac{2^{2n}}{\\sqrt{\\pi n}}$"
   ]
  },
  {
   "cell_type": "code",
   "execution_count": null,
   "metadata": {
    "collapsed": true
   },
   "outputs": [],
   "source": []
  },
  {
   "cell_type": "code",
   "execution_count": null,
   "metadata": {
    "collapsed": true
   },
   "outputs": [],
   "source": []
  }
 ],
 "metadata": {
  "anaconda-cloud": {},
  "kernelspec": {
   "display_name": "Python [Root]",
   "language": "python",
   "name": "Python [Root]"
  },
  "language_info": {
   "codemirror_mode": {
    "name": "ipython",
    "version": 3
   },
   "file_extension": ".py",
   "mimetype": "text/x-python",
   "name": "python",
   "nbconvert_exporter": "python",
   "pygments_lexer": "ipython3",
   "version": "3.5.1"
  }
 },
 "nbformat": 4,
 "nbformat_minor": 0
}

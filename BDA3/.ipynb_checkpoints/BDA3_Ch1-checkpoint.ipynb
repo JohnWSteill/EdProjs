{
 "cells": [
  {
   "cell_type": "markdown",
   "metadata": {
    "nbpresent": {
     "id": "d6265485-1e2c-4e42-bb7c-6f2720afb1f1"
    }
   },
   "source": [
    "# Bayesian Data Analyis, Chapter 1\n",
    "## 1.1 Conditional Probability\n",
    "If $p(y|\\theta=z)=N(z,\\sigma)$. \n",
    "$ Pr(\\theta=1)=Pr(\\theta=2)=.5$\n",
    "\n",
    "a) If $\\sigma=2$, write and sketch marginal probability density for y.\n",
    "\n",
    "\\begin{align}\n",
    "p(y) = &\\Sigma_{\\theta=1,2} p(y|\\theta) p(\\theta) \\\\\n",
    "=& .5N(1,2) + .5N(2,2) \\\\\n",
    "=&gd\\\\\n",
    "\\end{align}\n"
   ]
  },
  {
   "cell_type": "code",
   "execution_count": null,
   "metadata": {
    "collapsed": true,
    "nbpresent": {
     "id": "cec5b3d4-568c-47e5-ac14-14f67fbc1019"
    }
   },
   "outputs": [],
   "source": []
  },
  {
   "cell_type": "code",
   "execution_count": null,
   "metadata": {
    "collapsed": true,
    "nbpresent": {
     "id": "e9121478-9b02-498c-a9fb-a2dc08a05165"
    }
   },
   "outputs": [],
   "source": []
  },
  {
   "cell_type": "code",
   "execution_count": 1,
   "metadata": {
    "collapsed": false,
    "nbpresent": {
     "id": "cad7e881-b2a7-400a-98f5-da59f6e6f25a"
    }
   },
   "outputs": [
    {
     "data": {
      "text/plain": [
       "5"
      ]
     },
     "execution_count": 1,
     "metadata": {},
     "output_type": "execute_result"
    }
   ],
   "source": [
    "2+3"
   ]
  },
  {
   "cell_type": "code",
   "execution_count": null,
   "metadata": {
    "collapsed": true,
    "nbpresent": {
     "id": "66beb488-f3cc-4b40-b3b0-7f0067dd89c5"
    }
   },
   "outputs": [],
   "source": []
  }
 ],
 "metadata": {
  "kernelspec": {
   "display_name": "Python [Root]",
   "language": "python",
   "name": "Python [Root]"
  },
  "language_info": {
   "codemirror_mode": {
    "name": "ipython",
    "version": 3
   },
   "file_extension": ".py",
   "mimetype": "text/x-python",
   "name": "python",
   "nbconvert_exporter": "python",
   "pygments_lexer": "ipython3",
   "version": "3.5.1"
  }
 },
 "nbformat": 4,
 "nbformat_minor": 0
}
